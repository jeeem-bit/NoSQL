{
 "cells": [
  {
   "cell_type": "code",
   "execution_count": 1,
   "metadata": {},
   "outputs": [
    {
     "name": "stdout",
     "output_type": "stream",
     "text": [
      "Collections in entertainment database:  ['movies']\n"
     ]
    },
    {
     "name": "stderr",
     "output_type": "stream",
     "text": [
      "c:\\users\\user\\appdata\\local\\programs\\python\\python37\\lib\\site-packages\\ipykernel_launcher.py:15: DeprecationWarning: collection_names is deprecated. Use list_collection_names instead.\n",
      "  from ipykernel import kernelapp as app\n"
     ]
    }
   ],
   "source": [
    "import pymongo\n",
    "client = pymongo.MongoClient(\"127.0.0.1\", 27017)\n",
    "db = client.get_database(\"entertainment\")\n",
    "coll = db.get_collection(\"movies\")\n",
    "#coll.insert_one({\"_id\":1, \"title\":\"Johnny Maths\", \"genre\":\"comedy\"})\n",
    "coll.insert_one({\"title\":\"Star Walls\", \"genre\":\"science fiction\"})\n",
    "coll.insert_one({\"title\":\"Detection\"}) #no genre\n",
    "list_to_add = []\n",
    "list_to_add.append({\"title\":\"Badman\", \"genre\":\"adventure\", \"year\":2015}) \n",
    "list_to_add.append({\"title\":\"Averages\", \"genre\":[\"science fiction\",\"adventure\"], \"year\":2017})\n",
    "list_to_add.append({\"title\":\"Octopus Man\", \"genre\":\"adventure\", \"year\":2017})\n",
    "list_to_add.append({\"title\":\"Fantastic Bees\", \"genre\":\"adventure\", \"year\":2018})\n",
    "list_to_add.append({\"title\":\"Underground\", \"genre\":\"horror\", \"year\":2014})\n",
    "coll.insert_many(list_to_add)\n",
    "c = db.collection_names(\"entertainment\")\n",
    "print (\"Collections in entertainment database: \",c)\n",
    "client.close()\n"
   ]
  },
  {
   "cell_type": "code",
   "execution_count": 2,
   "metadata": {},
   "outputs": [
    {
     "ename": "SyntaxError",
     "evalue": "invalid syntax (<ipython-input-2-5c4181fbe02c>, line 2)",
     "output_type": "error",
     "traceback": [
      "\u001b[1;36m  File \u001b[1;32m\"<ipython-input-2-5c4181fbe02c>\"\u001b[1;36m, line \u001b[1;32m2\u001b[0m\n\u001b[1;33m    client=pymongo.MongoClient(:)\u001b[0m\n\u001b[1;37m                               ^\u001b[0m\n\u001b[1;31mSyntaxError\u001b[0m\u001b[1;31m:\u001b[0m invalid syntax\n"
     ]
    }
   ],
   "source": [
    "import pymongo \n",
    "client=pymongo.MongoClient(\"127.0.0.1\",27017)\n"
   ]
  },
  {
   "cell_type": "code",
   "execution_count": null,
   "metadata": {},
   "outputs": [],
   "source": []
  }
 ],
 "metadata": {
  "kernelspec": {
   "display_name": "Python 3",
   "language": "python",
   "name": "python3"
  },
  "language_info": {
   "codemirror_mode": {
    "name": "ipython",
    "version": 3
   },
   "file_extension": ".py",
   "mimetype": "text/x-python",
   "name": "python",
   "nbconvert_exporter": "python",
   "pygments_lexer": "ipython3",
   "version": "3.7.6"
  }
 },
 "nbformat": 4,
 "nbformat_minor": 4
}
