{
 "cells": [
  {
   "cell_type": "code",
   "execution_count": 4,
   "id": "extensive-brazil",
   "metadata": {},
   "outputs": [],
   "source": [
    "import pymongo \n",
    "import json\n",
    "\n",
    "client = pymongo.MongoClient('127.0.0.1', 27017)\n",
    "db = client.get_database('myDatabase')\n",
    "coll = db.get_collection('crimes')\n",
    "\n",
    "with open('crimes.json') as f:\n",
    "    data = json.load(f)\n",
    "    \n",
    "client['myDatabase']['crimes'].insert_many(data)\n",
    "client.close()"
   ]
  },
  {
   "cell_type": "code",
   "execution_count": 23,
   "id": "sustained-seeker",
   "metadata": {},
   "outputs": [
    {
     "name": "stdout",
     "output_type": "stream",
     "text": [
      "{'_id': 1, 'accused': 'Rufus Schuck', 'gender': 'F', 'age': 45, 'nationality': 'Singapore', 'records': [{'type': 'Arson', 'victims': ['Luanne Lett', 'Hertha Dossantos']}, {'type': 'Murder', 'victims': ['Terrence Shannon']}, {'type': 'Terrorism'}]}\n",
      "{'_id': 2, 'accused': 'Ione Wolfe', 'gender': 'F', 'age': 42, 'records': [{'type': 'Terrorism'}]}\n",
      "{'_id': 3, 'accused': 'Hillary Curl', 'gender': 'M', 'age': 44, 'nationality': 'Malaysia', 'records': [{'type': 'Assualt', 'victims': ['So Atkins']}, {'type': 'Murder', 'victims': ['Carolann Kintner', 'Kathlene Collar']}]}\n",
      "{'_id': 4, 'accused': 'Juli Barnhill', 'gender': 'F', 'age': 44, 'nationality': 'Singapore', 'records': [{'type': 'Murder', 'victims': ['Luanne Lett', 'Kathlene Collar']}]}\n",
      "{'_id': 6, 'accused': 'Marguerita Mciver', 'gender': 'M', 'age': 35, 'records': [{'type': 'Theft', 'victims': ['Toney Mcnab']}]}\n",
      "{'_id': 8, 'accused': 'Paris Curington', 'gender': 'F', 'age': 41, 'records': [{'type': 'Embezzlement'}, {'type': 'Assualt', 'victims': ['Lashawna Meals', 'Luanne Lett']}]}\n",
      "{'_id': 10, 'accused': 'Elvia Dubrey', 'gender': 'F', 'age': 45, 'nationality': 'Thailand', 'records': [{'type': 'Kidnapping', 'victims': ['Hertha Dossantos']}]}\n"
     ]
    }
   ],
   "source": [
    "import pymongo\n",
    "\n",
    "client = pymongo.MongoClient('127.0.0.1', 27017)\n",
    "db = client.get_database('myDatabase')\n",
    "coll = db.get_collection('crimes')\n",
    "query = {\"age\":{\"$gt\":30}}\n",
    "posts = coll.find(query)\n",
    "\n",
    "for post in posts:\n",
    "    print(post)\n",
    "\n",
    "client.close()"
   ]
  },
  {
   "cell_type": "code",
   "execution_count": 15,
   "id": "stretch-basketball",
   "metadata": {},
   "outputs": [
    {
     "name": "stdout",
     "output_type": "stream",
     "text": [
      "{'_id': 3, 'accused': 'Hillary Curl', 'gender': 'M', 'age': 44, 'nationality': 'Malaysia', 'records': [{'type': 'Assualt', 'victims': ['So Atkins']}, {'type': 'Murder', 'victims': ['Carolann Kintner', 'Kathlene Collar']}]}\n",
      "{'_id': 5, 'accused': 'Tashia Bowen', 'gender': 'M', 'age': 20, 'records': [{'type': 'Assualt', 'victims': ['So Atkins', 'Elvia Dubrey']}, {'type': 'Terrorism'}]}\n",
      "{'_id': 6, 'accused': 'Marguerita Mciver', 'gender': 'M', 'age': 35, 'records': [{'type': 'Theft', 'victims': ['Toney Mcnab']}]}\n",
      "{'_id': 7, 'accused': 'Sharie Schall', 'gender': 'M', 'age': 24, 'records': [{'type': 'Embezzlement'}]}\n",
      "{'_id': 9, 'accused': 'Ashely Faye', 'gender': 'M', 'age': 26, 'nationality': 'Malaysia', 'records': [{'type': 'Murder', 'victims': ['Hertha Dossantos', 'Ola Markell']}, {'type': 'Kidnapping', 'victims': ['Terrence Shannon']}, {'type': 'Theft', 'victims': ['Luanne Lett']}]}\n"
     ]
    }
   ],
   "source": [
    "import pymongo\n",
    "\n",
    "client = pymongo.MongoClient('127.0.0.1', 27017)\n",
    "db = client.get_database('myDatabase')\n",
    "coll = db.get_collection('crimes')\n",
    "query = {\"gender\":\"M\"}\n",
    "posts = coll.find(query)\n",
    "\n",
    "for post in posts:\n",
    "    print(post)\n",
    "\n",
    "client.close()"
   ]
  },
  {
   "cell_type": "code",
   "execution_count": 17,
   "id": "another-deputy",
   "metadata": {},
   "outputs": [
    {
     "name": "stdout",
     "output_type": "stream",
     "text": [
      "{'_id': 1, 'accused': 'Rufus Schuck', 'gender': 'F', 'age': 45, 'nationality': 'Singapore', 'records': [{'type': 'Arson', 'victims': ['Luanne Lett', 'Hertha Dossantos']}, {'type': 'Murder', 'victims': ['Terrence Shannon']}, {'type': 'Terrorism'}]}\n",
      "{'_id': 2, 'accused': 'Ione Wolfe', 'gender': 'F', 'age': 42, 'records': [{'type': 'Terrorism'}]}\n",
      "{'_id': 3, 'accused': 'Hillary Curl', 'gender': 'M', 'age': 44, 'nationality': 'Malaysia', 'records': [{'type': 'Assualt', 'victims': ['So Atkins']}, {'type': 'Murder', 'victims': ['Carolann Kintner', 'Kathlene Collar']}]}\n",
      "{'_id': 4, 'accused': 'Juli Barnhill', 'gender': 'F', 'age': 44, 'nationality': 'Singapore', 'records': [{'type': 'Murder', 'victims': ['Luanne Lett', 'Kathlene Collar']}]}\n",
      "{'_id': 5, 'accused': 'Tashia Bowen', 'gender': 'M', 'age': 20, 'records': [{'type': 'Assualt', 'victims': ['So Atkins', 'Elvia Dubrey']}, {'type': 'Terrorism'}]}\n",
      "{'_id': 6, 'accused': 'Marguerita Mciver', 'gender': 'M', 'age': 35, 'records': [{'type': 'Theft', 'victims': ['Toney Mcnab']}]}\n",
      "{'_id': 7, 'accused': 'Sharie Schall', 'gender': 'M', 'age': 24, 'records': [{'type': 'Embezzlement'}]}\n",
      "{'_id': 8, 'accused': 'Paris Curington', 'gender': 'F', 'age': 41, 'records': [{'type': 'Embezzlement'}, {'type': 'Assualt', 'victims': ['Lashawna Meals', 'Luanne Lett']}]}\n",
      "{'_id': 9, 'accused': 'Ashely Faye', 'gender': 'M', 'age': 26, 'nationality': 'Malaysia', 'records': [{'type': 'Murder', 'victims': ['Hertha Dossantos', 'Ola Markell']}, {'type': 'Kidnapping', 'victims': ['Terrence Shannon']}, {'type': 'Theft', 'victims': ['Luanne Lett']}]}\n",
      "{'_id': 10, 'accused': 'Elvia Dubrey', 'gender': 'F', 'age': 45, 'nationality': 'Thailand', 'records': [{'type': 'Kidnapping', 'victims': ['Hertha Dossantos']}]}\n"
     ]
    }
   ],
   "source": [
    "import pymongo\n",
    "\n",
    "client = pymongo.MongoClient('127.0.0.1', 27017)\n",
    "db = client.get_database('myDatabase')\n",
    "coll = db.get_collection('crimes')\n",
    "query =  {\"record.type\":{\"$exists\":False}}\n",
    "posts = coll.find(query)\n",
    "\n",
    "for post in posts:\n",
    "    print(post)\n",
    "\n",
    "client.close()"
   ]
  },
  {
   "cell_type": "code",
   "execution_count": 22,
   "id": "fourth-homework",
   "metadata": {},
   "outputs": [
    {
     "name": "stdout",
     "output_type": "stream",
     "text": [
      "{'_id': 1, 'accused': 'Rufus Schuck', 'gender': 'F', 'age': 45, 'nationality': 'Singapore', 'records': [{'type': 'Arson', 'victims': ['Luanne Lett', 'Hertha Dossantos']}, {'type': 'Murder', 'victims': ['Terrence Shannon']}, {'type': 'Terrorism'}]}\n",
      "{'_id': 3, 'accused': 'Hillary Curl', 'gender': 'M', 'age': 44, 'nationality': 'Malaysia', 'records': [{'type': 'Assualt', 'victims': ['So Atkins']}, {'type': 'Murder', 'victims': ['Carolann Kintner', 'Kathlene Collar']}]}\n",
      "{'_id': 4, 'accused': 'Juli Barnhill', 'gender': 'F', 'age': 44, 'nationality': 'Singapore', 'records': [{'type': 'Murder', 'victims': ['Luanne Lett', 'Kathlene Collar']}]}\n",
      "{'_id': 10, 'accused': 'Elvia Dubrey', 'gender': 'F', 'age': 45, 'nationality': 'Thailand', 'records': [{'type': 'Kidnapping', 'victims': ['Hertha Dossantos']}]}\n"
     ]
    }
   ],
   "source": [
    "# Write the query to retrieve all information of the accused(s) who committed Murder or Kidnapping but not Theft.\n",
    "import pymongo\n",
    "\n",
    "client = pymongo.MongoClient('127.0.0.1', 27017)\n",
    "db = client.get_database('myDatabase')\n",
    "coll = db.get_collection('crimes')\n",
    "query =  {\"$and\":[{\"records.type\":{\"$in\":[\"Murder\", \"Kidnapping\"]}}, {\"records.type\":{\"$nin\":[\"Theft\"]}}]} \n",
    "posts = coll.find(query)\n",
    "\n",
    "for post in posts:\n",
    "    print(post)\n",
    "\n",
    "client.close()"
   ]
  },
  {
   "cell_type": "code",
   "execution_count": 29,
   "id": "radical-remainder",
   "metadata": {},
   "outputs": [
    {
     "name": "stdout",
     "output_type": "stream",
     "text": [
      "{'accused': 'Tashia Bowen'}\n",
      "{'accused': 'Sharie Schall'}\n",
      "{'accused': 'Paris Curington'}\n"
     ]
    }
   ],
   "source": [
    "#Write the query to retrieve all the name(s) of accused who have committed 2 crimes and are less than 30 years old or committed Embezzlement.\n",
    "import pymongo\n",
    "\n",
    "client = pymongo.MongoClient('127.0.0.1', 27017)\n",
    "db = client.get_database('myDatabase')\n",
    "coll = db.get_collection('crimes')\n",
    "query =  {\"$or\":[{\"$and\":[{\"records\":{\"$size\":2}},{\"age\":{\"$lt\":30}}]},{\"records.type\":\"Embezzlement\"}]} \n",
    "query2 = {\"accused\":1, \"_id\":0}\n",
    "posts = coll.find(query, query2)\n",
    "\n",
    "for post in posts:\n",
    "    print(post)\n",
    "\n",
    "client.close()"
   ]
  },
  {
   "cell_type": "code",
   "execution_count": 30,
   "id": "alien-kennedy",
   "metadata": {},
   "outputs": [
    {
     "name": "stdout",
     "output_type": "stream",
     "text": [
      "{'accused': 'Rufus Schuck'}\n",
      "{'accused': 'Juli Barnhill'}\n",
      "{'accused': 'Paris Curington'}\n",
      "{'accused': 'Ashely Faye'}\n"
     ]
    }
   ],
   "source": [
    "# Write the query to retrieve all the name(s) of accused where their victims include \"Luanne Lett\".\t\n",
    "import pymongo\n",
    "\n",
    "client = pymongo.MongoClient('127.0.0.1', 27017)\n",
    "db = client.get_database('myDatabase')\n",
    "coll = db.get_collection('crimes')\n",
    "query =  {\"records.victims\":{\"$in\":[\"Luanne Lett\"]}} \n",
    "query2 = {\"accused\":1, \"_id\":0, \"records.type\":1}\n",
    "posts = coll.find(query, query2)\n",
    "\n",
    "for post in posts:\n",
    "    print(post)\n",
    "\n",
    "client.close()"
   ]
  },
  {
   "cell_type": "code",
   "execution_count": 31,
   "id": "leading-understanding",
   "metadata": {},
   "outputs": [
    {
     "name": "stdout",
     "output_type": "stream",
     "text": [
      "{'accused': 'Rufus Schuck'}\n",
      "{'accused': 'Hillary Curl'}\n",
      "{'accused': 'Juli Barnhill'}\n",
      "{'accused': 'Tashia Bowen'}\n",
      "{'accused': 'Paris Curington'}\n",
      "{'accused': 'Ashely Faye'}\n"
     ]
    }
   ],
   "source": [
    "# Write the query to retrieve all the name(s) of accused who has crime record of involving 2 victims.\n",
    "\n",
    "import pymongo\n",
    "\n",
    "client = pymongo.MongoClient('127.0.0.1', 27017)\n",
    "db = client.get_database('myDatabase')\n",
    "coll = db.get_collection('crimes')\n",
    "query =  {\"records.victims\":{\"$size\":2}} \n",
    "query2 = {\"accused\":1, \"_id\":0}\n",
    "posts = coll.find(query, query2)\n",
    "\n",
    "for post in posts:\n",
    "    print(post)\n",
    "\n",
    "client.close()"
   ]
  },
  {
   "cell_type": "code",
   "execution_count": 34,
   "id": "written-rebound",
   "metadata": {},
   "outputs": [
    {
     "name": "stdout",
     "output_type": "stream",
     "text": [
      "{'_id': 5, 'accused': 'Tashia Bowen', 'gender': 'M', 'age': 15, 'records': [{'type': 'Assualt', 'victims': ['So Atkins', 'Elvia Dubrey']}, {'type': 'Terrorism'}], 'nationality': 'Indonesia'}\n"
     ]
    },
    {
     "name": "stderr",
     "output_type": "stream",
     "text": [
      "c:\\users\\jiaen\\appdata\\local\\programs\\python\\python37\\lib\\site-packages\\ipykernel_launcher.py:9: DeprecationWarning: update is deprecated. Use replace_one, update_one or update_many instead.\n",
      "  if __name__ == '__main__':\n"
     ]
    }
   ],
   "source": [
    "# Write the NoSQL statement to set the age of the accused \"Tashia Bowen\" to 15 and its nationality to Indonesia.\n",
    "import pymongo\n",
    "\n",
    "client = pymongo.MongoClient('127.0.0.1', 27017)\n",
    "db = client.get_database('myDatabase')\n",
    "coll = db.get_collection('crimes')\n",
    "query =  {\"accused\":\"Tashia Bowen\"} \n",
    "query2 = {\"$set\":{\"age\":15, \"nationality\":\"Indonesia\"}}\n",
    "coll.update(query, query2)\n",
    "\n",
    "posts= coll.find({\"accused\":\"Tashia Bowen\"})\n",
    "\n",
    "for post in posts:\n",
    "    print(post)\n",
    "\n",
    "client.close()"
   ]
  },
  {
   "cell_type": "code",
   "execution_count": 35,
   "id": "burning-stuart",
   "metadata": {},
   "outputs": [
    {
     "name": "stdout",
     "output_type": "stream",
     "text": [
      "{'_id': 1, 'accused': 'Rufus Schuck', 'gender': 'F', 'age': 45, 'records': [{'type': 'Arson', 'victims': ['Luanne Lett', 'Hertha Dossantos']}, {'type': 'Murder', 'victims': ['Terrence Shannon']}, {'type': 'Terrorism'}]}\n"
     ]
    },
    {
     "name": "stderr",
     "output_type": "stream",
     "text": [
      "c:\\users\\jiaen\\appdata\\local\\programs\\python\\python37\\lib\\site-packages\\ipykernel_launcher.py:10: DeprecationWarning: update is deprecated. Use replace_one, update_one or update_many instead.\n",
      "  # Remove the CWD from sys.path while we load stuff.\n"
     ]
    }
   ],
   "source": [
    "# Write the NoSQL statement to remove the nationality of \"Rufus Schuck\".\n",
    "\n",
    "import pymongo\n",
    "\n",
    "client = pymongo.MongoClient('127.0.0.1', 27017)\n",
    "db = client.get_database('myDatabase')\n",
    "coll = db.get_collection('crimes')\n",
    "query =  {\"accused\":\"Rufus Schuck\"} \n",
    "query2 = {\"$unset\":{\"nationality\":\"\"}}\n",
    "coll.update(query, query2)\n",
    "\n",
    "\n",
    "posts= coll.find({\"accused\":\"Rufus Schuck\"})\n",
    "\n",
    "for post in posts:\n",
    "    print(post)\n",
    "\n",
    "client.close()"
   ]
  },
  {
   "cell_type": "code",
   "execution_count": 4,
   "id": "executed-price",
   "metadata": {},
   "outputs": [
    {
     "name": "stdout",
     "output_type": "stream",
     "text": [
      "{'_id': 10, 'accused': 'Elvia Dubrey', 'gender': 'F', 'age': 45, 'nationality': 'Thailand', 'records': [{'type': 'Kidnapping'}]}\n"
     ]
    },
    {
     "name": "stderr",
     "output_type": "stream",
     "text": [
      "c:\\users\\jiaen\\appdata\\local\\programs\\python\\python37\\lib\\site-packages\\ipykernel_launcher.py:9: DeprecationWarning: update is deprecated. Use replace_one, update_one or update_many instead.\n",
      "  if __name__ == '__main__':\n"
     ]
    }
   ],
   "source": [
    "# Write the NoSQL statement to remove the kidnapped victims field from records of the accused named \"Elvia Dubrey\"\n",
    "import pymongo\n",
    "\n",
    "client = pymongo.MongoClient('127.0.0.1', 27017)\n",
    "db = client.get_database('myDatabase')\n",
    "coll = db.get_collection('crimes')\n",
    "query = {\"$and\":[{\"accused\":\"Elvia Dubrey\"},{\"records.type\":\"Kidnapping\"}]}\n",
    "query2 = {\"$unset\":{\"records.$.victims\":\"\"}}\n",
    "coll.update(query, query2)\n",
    "\n",
    "posts= coll.find({\"accused\":\"Elvia Dubrey\"})\n",
    "\n",
    "for post in posts:\n",
    "    print(post)\n",
    "\n",
    "client.close()"
   ]
  },
  {
   "cell_type": "code",
   "execution_count": null,
   "id": "gothic-project",
   "metadata": {},
   "outputs": [],
   "source": []
  }
 ],
 "metadata": {
  "kernelspec": {
   "display_name": "Python 3",
   "language": "python",
   "name": "python3"
  },
  "language_info": {
   "codemirror_mode": {
    "name": "ipython",
    "version": 3
   },
   "file_extension": ".py",
   "mimetype": "text/x-python",
   "name": "python",
   "nbconvert_exporter": "python",
   "pygments_lexer": "ipython3",
   "version": "3.7.6"
  }
 },
 "nbformat": 4,
 "nbformat_minor": 5
}
