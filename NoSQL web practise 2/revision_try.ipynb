{
 "cells": [
  {
   "cell_type": "code",
   "execution_count": 4,
   "id": "serious-family",
   "metadata": {},
   "outputs": [],
   "source": [
    "# insert json file \n",
    "import json\n",
    "import pymongo\n",
    "\n",
    "client = pymongo.MongoClient('127.0.0.1', 27017)\n",
    "client.drop_database('myDatabase')\n",
    "\n",
    "with open('crimes.json') as f:\n",
    "    data = json.load(f)\n",
    "    \n",
    "client['myDatabase']['crimes'].insert_many(data)\n",
    "client.close()"
   ]
  },
  {
   "cell_type": "code",
   "execution_count": 6,
   "id": "closing-winning",
   "metadata": {},
   "outputs": [
    {
     "name": "stdout",
     "output_type": "stream",
     "text": [
      "{'_id': 1, 'accused': 'Rufus Schuck', 'gender': 'F', 'age': 45, 'nationality': 'Singapore', 'records': [{'type': 'Arson', 'victims': ['Luanne Lett', 'Hertha Dossantos']}, {'type': 'Murder', 'victims': ['Terrence Shannon']}, {'type': 'Terrorism'}]}\n",
      "{'_id': 2, 'accused': 'Ione Wolfe', 'gender': 'F', 'age': 42, 'records': [{'type': 'Terrorism'}]}\n",
      "{'_id': 3, 'accused': 'Hillary Curl', 'gender': 'M', 'age': 44, 'nationality': 'Malaysia', 'records': [{'type': 'Assualt', 'victims': ['So Atkins']}, {'type': 'Murder', 'victims': ['Carolann Kintner', 'Kathlene Collar']}]}\n",
      "{'_id': 4, 'accused': 'Juli Barnhill', 'gender': 'F', 'age': 44, 'nationality': 'Singapore', 'records': [{'type': 'Murder', 'victims': ['Luanne Lett', 'Kathlene Collar']}]}\n",
      "{'_id': 6, 'accused': 'Marguerita Mciver', 'gender': 'M', 'age': 35, 'records': [{'type': 'Theft', 'victims': ['Toney Mcnab']}]}\n",
      "{'_id': 8, 'accused': 'Paris Curington', 'gender': 'F', 'age': 41, 'records': [{'type': 'Embezzlement'}, {'type': 'Assualt', 'victims': ['Lashawna Meals', 'Luanne Lett']}]}\n",
      "{'_id': 10, 'accused': 'Elvia Dubrey', 'gender': 'F', 'age': 45, 'nationality': 'Thailand', 'records': [{'type': 'Kidnapping', 'victims': ['Hertha Dossantos']}]}\n"
     ]
    }
   ],
   "source": [
    "import pymongo \n",
    "\n",
    "# find all criminals with age greater than 30 \n",
    "client = pymongo.MongoClient('127.0.0.1', 27017)\n",
    "query = {\"age\":{\"$gt\":30}}\n",
    "db = client.get_database(\"myDatabase\")\n",
    "col = db.get_collection('crimes')\n",
    "datas = col.find(query)\n",
    "\n",
    "for data in datas:\n",
    "    print(data)\n",
    "\n",
    "client.close()"
   ]
  },
  {
   "cell_type": "code",
   "execution_count": 7,
   "id": "fleet-broad",
   "metadata": {},
   "outputs": [
    {
     "name": "stdout",
     "output_type": "stream",
     "text": [
      "{'_id': 3, 'accused': 'Hillary Curl', 'gender': 'M', 'age': 44, 'nationality': 'Malaysia', 'records': [{'type': 'Assualt', 'victims': ['So Atkins']}, {'type': 'Murder', 'victims': ['Carolann Kintner', 'Kathlene Collar']}]}\n",
      "{'_id': 5, 'accused': 'Tashia Bowen', 'gender': 'M', 'age': 20, 'records': [{'type': 'Assualt', 'victims': ['So Atkins', 'Elvia Dubrey']}, {'type': 'Terrorism'}]}\n",
      "{'_id': 6, 'accused': 'Marguerita Mciver', 'gender': 'M', 'age': 35, 'records': [{'type': 'Theft', 'victims': ['Toney Mcnab']}]}\n",
      "{'_id': 7, 'accused': 'Sharie Schall', 'gender': 'M', 'age': 24, 'records': [{'type': 'Embezzlement'}]}\n",
      "{'_id': 9, 'accused': 'Ashely Faye', 'gender': 'M', 'age': 26, 'nationality': 'Malaysia', 'records': [{'type': 'Murder', 'victims': ['Hertha Dossantos', 'Ola Markell']}, {'type': 'Kidnapping', 'victims': ['Terrence Shannon']}, {'type': 'Theft', 'victims': ['Luanne Lett']}]}\n"
     ]
    }
   ],
   "source": [
    "import pymongo\n",
    "\n",
    "# find all male criminals \n",
    "query = {'gender':'M'}\n",
    "client = pymongo.MongoClient('127.0.0.1', 27017)\n",
    "db = client.get_database('myDatabase')\n",
    "col = db.get_collection('crimes')\n",
    "datas = col.find(query)\n",
    "\n",
    "for data in datas:\n",
    "    print(data)\n",
    "\n",
    "client.close()"
   ]
  },
  {
   "cell_type": "code",
   "execution_count": 8,
   "id": "impaired-peace",
   "metadata": {},
   "outputs": [],
   "source": [
    "import pymongo\n",
    "\n",
    "# no record type\n",
    "query = {'records.type':{\"$exists\":False}}\n",
    "client = pymongo.MongoClient('127.0.0.1', 27017)\n",
    "db = client.get_database('myDatabase')\n",
    "col = db.get_collection('crimes')\n",
    "datas = col.find(query)\n",
    "\n",
    "for data in datas:\n",
    "    print(data)\n",
    "    \n",
    "client.close()"
   ]
  },
  {
   "cell_type": "code",
   "execution_count": 10,
   "id": "dominant-resort",
   "metadata": {},
   "outputs": [
    {
     "name": "stdout",
     "output_type": "stream",
     "text": [
      "{'_id': 1, 'accused': 'Rufus Schuck', 'gender': 'F', 'age': 45, 'nationality': 'Singapore', 'records': [{'type': 'Arson', 'victims': ['Luanne Lett', 'Hertha Dossantos']}, {'type': 'Murder', 'victims': ['Terrence Shannon']}, {'type': 'Terrorism'}]}\n",
      "{'_id': 3, 'accused': 'Hillary Curl', 'gender': 'M', 'age': 44, 'nationality': 'Malaysia', 'records': [{'type': 'Assualt', 'victims': ['So Atkins']}, {'type': 'Murder', 'victims': ['Carolann Kintner', 'Kathlene Collar']}]}\n",
      "{'_id': 4, 'accused': 'Juli Barnhill', 'gender': 'F', 'age': 44, 'nationality': 'Singapore', 'records': [{'type': 'Murder', 'victims': ['Luanne Lett', 'Kathlene Collar']}]}\n",
      "{'_id': 10, 'accused': 'Elvia Dubrey', 'gender': 'F', 'age': 45, 'nationality': 'Thailand', 'records': [{'type': 'Kidnapping', 'victims': ['Hertha Dossantos']}]}\n"
     ]
    }
   ],
   "source": [
    "import pymongo\n",
    "\n",
    "# Write the query to retrieve all information of the accused(s) who committed Murder or Kidnapping but not Theft.\n",
    "\n",
    "query = {\"$and\":[{\"$or\":[{\"records.type\":\"Murder\"},{\"records.type\":\"Kidnapping\"}]},{\"records.type\":{\"$nin\":[\"Theft\"]}}]}\n",
    "client = pymongo.MongoClient('127.0.0.1', 27017)\n",
    "db = client.get_database('myDatabase')\n",
    "col = db.get_collection('crimes')\n",
    "datas = col.find(query)\n",
    "\n",
    "for data in datas:\n",
    "    print(data)\n",
    "    \n",
    "client.close()"
   ]
  },
  {
   "cell_type": "code",
   "execution_count": 14,
   "id": "continent-duncan",
   "metadata": {},
   "outputs": [
    {
     "name": "stdout",
     "output_type": "stream",
     "text": [
      "{'accused': 'Tashia Bowen'}\n",
      "{'accused': 'Sharie Schall'}\n",
      "{'accused': 'Paris Curington'}\n"
     ]
    }
   ],
   "source": [
    "import pymongo\n",
    "\n",
    "# Write the query to retrieve all the name(s) of accused who have committed 2 crimes and are less than 30 years old or committed Embezzlement.\n",
    "\n",
    "query = {\"$or\":[{\"$and\":[{\"records\":{\"$size\":2}},{\"age\":{\"$lt\":30}}]},{\"records.type\":\"Embezzlement\"}]}\n",
    "fields = {\"_id\":0, \"accused\":1}\n",
    "client = pymongo.MongoClient('127.0.0.1', 27017)\n",
    "db = client.get_database('myDatabase')\n",
    "col = db.get_collection('crimes')\n",
    "datas = col.find(query, fields)\n",
    "\n",
    "for data in datas:\n",
    "    print(data)\n",
    "\n",
    "client.close()"
   ]
  },
  {
   "cell_type": "code",
   "execution_count": 15,
   "id": "sustained-sacrifice",
   "metadata": {},
   "outputs": [
    {
     "name": "stdout",
     "output_type": "stream",
     "text": [
      "{'accused': 'Rufus Schuck'}\n",
      "{'accused': 'Juli Barnhill'}\n",
      "{'accused': 'Paris Curington'}\n",
      "{'accused': 'Ashely Faye'}\n"
     ]
    }
   ],
   "source": [
    "import pymongo \n",
    "\n",
    "# Write the query to retrieve all the name(s) of accused where their victims include \"Luanne Lett\".\t\n",
    "query = {\"records.victims\":{\"$in\":[\"Luanne Lett\"]}}\n",
    "fields = {\"_id\":0, \"accused\":1}\n",
    "client = pymongo.MongoClient('127.0.0.1', 27017)\n",
    "db = client.get_database('myDatabase')\n",
    "col = db.get_collection('crimes')\n",
    "datas = col.find(query, fields)\n",
    "\n",
    "for data in datas:\n",
    "    print(data)\n",
    "\n",
    "client.close()"
   ]
  },
  {
   "cell_type": "code",
   "execution_count": 16,
   "id": "funny-discussion",
   "metadata": {},
   "outputs": [
    {
     "name": "stdout",
     "output_type": "stream",
     "text": [
      "{'accused': 'Rufus Schuck'}\n",
      "{'accused': 'Hillary Curl'}\n",
      "{'accused': 'Juli Barnhill'}\n",
      "{'accused': 'Tashia Bowen'}\n",
      "{'accused': 'Paris Curington'}\n",
      "{'accused': 'Ashely Faye'}\n"
     ]
    }
   ],
   "source": [
    "import pymongo\n",
    "\n",
    "# Write the query to retrieve all the name(s) of accused who has crime record of involving 2 victims.\n",
    "query = {\"records.victims\":{\"$size\":2}}\n",
    "fields = {\"_id\":0, \"accused\":1}\n",
    "client = pymongo.MongoClient('127.0.0.1', 27017)\n",
    "db = client.get_database('myDatabase')\n",
    "col = db.get_collection('crimes')\n",
    "datas = col.find(query, fields)\n",
    "\n",
    "for data in datas:\n",
    "    print(data)\n",
    "\n",
    "client.close()"
   ]
  },
  {
   "cell_type": "code",
   "execution_count": 18,
   "id": "derived-joint",
   "metadata": {},
   "outputs": [
    {
     "name": "stdout",
     "output_type": "stream",
     "text": [
      "Updated.\n"
     ]
    },
    {
     "name": "stderr",
     "output_type": "stream",
     "text": [
      "c:\\users\\jiaen\\appdata\\local\\programs\\python\\python37\\lib\\site-packages\\ipykernel_launcher.py:9: DeprecationWarning: update is deprecated. Use replace_one, update_one or update_many instead.\n",
      "  if __name__ == '__main__':\n"
     ]
    }
   ],
   "source": [
    "import pymongo \n",
    "\n",
    "# Write the NoSQL statement to set the age of the accused \"Tashia Bowen\" to 15 and its nationality to Indonesia.\n",
    "query = {\"$set\":{\"age\":15, \"nationality\":\"Indonesia\"}}\n",
    "condition = {\"accused\":\"Tashia Bowen\"}\n",
    "client = pymongo.MongoClient('127.0.0.1', 27017)\n",
    "db = client.get_database('myDatabase')\n",
    "col = db.get_collection('crimes')\n",
    "col.update(condition, query)\n",
    "print(\"Updated.\")\n",
    "\n",
    "client.close()"
   ]
  },
  {
   "cell_type": "code",
   "execution_count": 19,
   "id": "closed-attendance",
   "metadata": {},
   "outputs": [
    {
     "name": "stdout",
     "output_type": "stream",
     "text": [
      "Updated.\n"
     ]
    },
    {
     "name": "stderr",
     "output_type": "stream",
     "text": [
      "c:\\users\\jiaen\\appdata\\local\\programs\\python\\python37\\lib\\site-packages\\ipykernel_launcher.py:9: DeprecationWarning: update is deprecated. Use replace_one, update_one or update_many instead.\n",
      "  if __name__ == '__main__':\n"
     ]
    }
   ],
   "source": [
    "import pymongo\n",
    "\n",
    "# Write the NoSQL statement to remove the nationality of \"Rufus Schuck\".\n",
    "query = {\"$unset\":{\"nationality\":\"\"}}\n",
    "condition = {\"accused\":\"Rufus Schuck\"}\n",
    "client = pymongo.MongoClient('127.0.0.1', 27017)\n",
    "db = client.get_database('myDatabase')\n",
    "col = db.get_collection('crimes')\n",
    "col.update(condition, query)\n",
    "print(\"Updated.\")\n",
    "\n",
    "client.close()"
   ]
  },
  {
   "cell_type": "code",
   "execution_count": 21,
   "id": "starting-penguin",
   "metadata": {},
   "outputs": [
    {
     "name": "stdout",
     "output_type": "stream",
     "text": [
      "Updated.\n"
     ]
    },
    {
     "name": "stderr",
     "output_type": "stream",
     "text": [
      "c:\\users\\jiaen\\appdata\\local\\programs\\python\\python37\\lib\\site-packages\\ipykernel_launcher.py:9: DeprecationWarning: update is deprecated. Use replace_one, update_one or update_many instead.\n",
      "  if __name__ == '__main__':\n"
     ]
    },
    {
     "ename": "NameError",
     "evalue": "name 'coll' is not defined",
     "output_type": "error",
     "traceback": [
      "\u001b[1;31m---------------------------------------------------------------------------\u001b[0m",
      "\u001b[1;31mNameError\u001b[0m                                 Traceback (most recent call last)",
      "\u001b[1;32m<ipython-input-21-e2453ac4aef7>\u001b[0m in \u001b[0;36m<module>\u001b[1;34m\u001b[0m\n\u001b[0;32m     10\u001b[0m \u001b[0mprint\u001b[0m\u001b[1;33m(\u001b[0m\u001b[1;34m\"Updated.\"\u001b[0m\u001b[1;33m)\u001b[0m\u001b[1;33m\u001b[0m\u001b[1;33m\u001b[0m\u001b[0m\n\u001b[0;32m     11\u001b[0m \u001b[1;33m\u001b[0m\u001b[0m\n\u001b[1;32m---> 12\u001b[1;33m \u001b[0mposts\u001b[0m\u001b[1;33m=\u001b[0m \u001b[0mcoll\u001b[0m\u001b[1;33m.\u001b[0m\u001b[0mfind\u001b[0m\u001b[1;33m(\u001b[0m\u001b[1;33m{\u001b[0m\u001b[1;34m\"accused\"\u001b[0m\u001b[1;33m:\u001b[0m\u001b[1;34m\"Elvia Dubrey\"\u001b[0m\u001b[1;33m}\u001b[0m\u001b[1;33m)\u001b[0m\u001b[1;33m\u001b[0m\u001b[1;33m\u001b[0m\u001b[0m\n\u001b[0m\u001b[0;32m     13\u001b[0m \u001b[1;33m\u001b[0m\u001b[0m\n\u001b[0;32m     14\u001b[0m \u001b[1;32mfor\u001b[0m \u001b[0mpost\u001b[0m \u001b[1;32min\u001b[0m \u001b[0mposts\u001b[0m\u001b[1;33m:\u001b[0m\u001b[1;33m\u001b[0m\u001b[1;33m\u001b[0m\u001b[0m\n",
      "\u001b[1;31mNameError\u001b[0m: name 'coll' is not defined"
     ]
    }
   ],
   "source": [
    "import pymongo\n",
    "\n",
    "# Write the NoSQL statement to remove the kidnapped victims field from records of the accused named \"Elvia Dubrey\"\n",
    "query = {\"$unset\":{\"records.$.victims\": \"\"}}\n",
    "condition = {\"$and\": [{\"accused\":\"Elvia Dubrey\"},{\"records.type\":\"Kidnapping\"}]} \n",
    "client = pymongo.MongoClient('127.0.0.1', 27017)\n",
    "db = client.get_database('myDatabase')\n",
    "col = db.get_collection('crimes')\n",
    "col.update(condition, query)\n",
    "print(\"Updated.\")\n",
    "\n",
    "posts= col.find({\"accused\":\"Elvia Dubrey\"})\n",
    "\n",
    "for post in posts:\n",
    "    print(post)\n",
    "\n",
    "client.close()"
   ]
  }
 ],
 "metadata": {
  "kernelspec": {
   "display_name": "Python 3",
   "language": "python",
   "name": "python3"
  },
  "language_info": {
   "codemirror_mode": {
    "name": "ipython",
    "version": 3
   },
   "file_extension": ".py",
   "mimetype": "text/x-python",
   "name": "python",
   "nbconvert_exporter": "python",
   "pygments_lexer": "ipython3",
   "version": "3.7.6"
  }
 },
 "nbformat": 4,
 "nbformat_minor": 5
}
