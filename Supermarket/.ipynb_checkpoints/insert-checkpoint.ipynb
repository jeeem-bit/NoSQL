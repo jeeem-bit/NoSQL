{
 "cells": [
  {
   "cell_type": "code",
   "execution_count": 8,
   "id": "lucky-wales",
   "metadata": {},
   "outputs": [
    {
     "name": "stdout",
     "output_type": "stream",
     "text": [
      "['item_name', 'item_type', 'price', 'discount_in_percent']\n"
     ]
    }
   ],
   "source": [
    "import pymongo \n",
    "\n",
    "with open('supermarket_items.txt', 'r') as f:\n",
    "    line = f.readline()\n",
    "    data =[]\n",
    "    while line:\n",
    "        line = line.split(',')\n",
    "        line[3] = line[3][:-1]\n",
    "        data.append(line)\n",
    "        line = f.readline()\n",
    "        \n",
    "        \n",
    "key = []\n",
    "for s in data[0]:\n",
    "    key.append(s.strip('<>'))\n",
    "print(key)\n",
    "new_data = data[1:]\n",
    "\n",
    "client = pymongo.MongoClient('127.0.0.1', 27017)\n",
    "client.drop_database('Supermarket')\n",
    "db = client.get_database('Supermarket')\n",
    "col = db.get_collection('supermarket')\n",
    "\n",
    "for item in new_data:\n",
    "    temp ={}\n",
    "    for i in range(len(item)):\n",
    "        temp[key[i]] = item[i]\n",
    "        \n",
    "    col.insert_one(temp)\n",
    "    \n",
    "client.close()"
   ]
  },
  {
   "cell_type": "code",
   "execution_count": null,
   "id": "documented-spine",
   "metadata": {},
   "outputs": [],
   "source": [
    "import pymongo \n",
    "\n",
    "client = pymongo.MongoClient('127.0.0.1', 27017)\n",
    "db = client.get_database('Supermarket')\n",
    "col = db.get_collection('supermarket')\n",
    "data = col.find()\n",
    "print(data)\n",
    "\n",
    "for doc in d"
   ]
  }
 ],
 "metadata": {
  "kernelspec": {
   "display_name": "Python 3",
   "language": "python",
   "name": "python3"
  },
  "language_info": {
   "codemirror_mode": {
    "name": "ipython",
    "version": 3
   },
   "file_extension": ".py",
   "mimetype": "text/x-python",
   "name": "python",
   "nbconvert_exporter": "python",
   "pygments_lexer": "ipython3",
   "version": "3.7.6"
  }
 },
 "nbformat": 4,
 "nbformat_minor": 5
}
