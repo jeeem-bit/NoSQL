{
 "cells": [
  {
   "cell_type": "code",
   "execution_count": 4,
   "metadata": {},
   "outputs": [],
   "source": [
    "import pymongo\n",
    "import json\n",
    "\n",
    "# RVHS\n",
    "# Task 1\n",
    "# Create a mongo client to local host with port 27017\n",
    "# Create database \"mydatabase\" with one collection \"results\"\n",
    "client=pymongo.MongoClient(\"127.0.0.1\", 27017)\n",
    "db= client.get_database(\"myDatabase\")\n",
    "coll = db.get_collection(\"results\")\n",
    "client.close()"
   ]
  },
  {
   "cell_type": "code",
   "execution_count": 5,
   "metadata": {},
   "outputs": [],
   "source": [
    "# Task 2\n",
    "# Load the documents in json file 'results.json' in \"results\" \n",
    "import pymongo\n",
    "import json\n",
    "\n",
    "client=pymongo.MongoClient(\"127.0.0.1\", 27017)\n",
    "db = client.get_database(\"myDatabase\")\n",
    "coll = db.get_collection(\"results\")\n",
    "with open(\"results.json\") as file:\n",
    "    data = json.load(file)\n",
    "client[\"myDatabase\"][\"results\"].insert_many(data)\n",
    "client.close()"
   ]
  },
  {
   "cell_type": "code",
   "execution_count": 6,
   "metadata": {},
   "outputs": [],
   "source": [
    "# Task 3\n",
    "# Load the document post in json file in \"results\"\n",
    "import pymongo\n",
    "import json\n",
    "\n",
    "client=pymongo.MongoClient(\"127.0.0.1\", 27017)\n",
    "db = client.get_database(\"myDatabase\")\n",
    "coll = db.get_collection(\"results\")\n",
    "post = {\"_id\":50,\"name\":\"Helena Cellray\",\"class\":\"2E\",\"grades\":{\"EL\":\"A\",\"CL\":\"A\",\"Math\":\"A\",\"Phy\":\"A\"}}\n",
    "coll.insert_one(post)\n",
    "client.close()"
   ]
  },
  {
   "cell_type": "code",
   "execution_count": 12,
   "metadata": {},
   "outputs": [
    {
     "name": "stdout",
     "output_type": "stream",
     "text": [
      "{'_id': 5, 'name': 'Marguerita Mciver', 'class': '2G', 'grades': {'EL': 'B', 'CL': 'E', 'Math': 'C', 'Phy': 'E', 'Chem': 'C'}}\n",
      "{'_id': 12, 'name': 'So Atkins', 'class': '2G', 'grades': {'EL': 'B', 'CL': 'F', 'Math': 'E', 'Phy': 'A', 'Chem': 'B'}}\n",
      "{'_id': 20, 'name': 'Hertha Dossantos', 'class': '2G', 'grades': {'EL': 'A', 'CL': 'C', 'Math': 'F', 'Phy': 'D', 'Chem': 'D'}}\n",
      "{'_id': 29, 'name': 'Jaye Galle', 'class': '2G', 'grades': {'EL': 'A', 'CL': 'B', 'Math': 'D', 'Bio': 'D', 'Chem': 'C'}}\n",
      "{'_id': 35, 'name': 'Joella Wessner', 'class': '2G', 'grades': {'EL': 'E', 'CL': 'B', 'Math': 'B', 'Bio': 'B'}}\n",
      "{'_id': 37, 'name': 'Marg Thorington', 'class': '2G', 'grades': {'EL': 'A', 'CL': 'D', 'Math': 'B', 'Phy': 'C'}}\n",
      "{'_id': 39, 'name': 'Teodoro Negrin', 'class': '2G', 'grades': {'EL': 'F', 'CL': 'B', 'Math': 'B', 'Phy': 'C'}}\n",
      "{'_id': 3, 'name': 'Juli Barnhill', 'class': '2F', 'grades': {'EL': 'C', 'CL': 'C', 'Math': 'E', 'Phy': 'C', 'Bio': 'C'}}\n",
      "{'_id': 4, 'name': 'Tashia Bowen', 'class': '2F', 'grades': {'EL': 'C', 'CL': 'B', 'Math': 'C', 'Phy': 'D'}}\n",
      "{'_id': 13, 'name': 'Kathlene Collar', 'class': '2F', 'grades': {'EL': 'E', 'CL': 'E', 'Math': 'B', 'Phy': 'E', 'Bio': 'E', 'Chem': 'C'}}\n",
      "{'_id': 16, 'name': 'Claudette Bode', 'class': '2F', 'grades': {'EL': 'F', 'CL': 'E', 'Math': 'D', 'Phy': 'D', 'Bio': 'E'}}\n",
      "{'_id': 24, 'name': 'Phyliss Rolen', 'class': '2F', 'grades': {'EL': 'B', 'CL': 'C', 'Math': 'B', 'Chem': 'D'}}\n",
      "{'_id': 34, 'name': 'Russell Gillison', 'class': '2F', 'grades': {'EL': 'E', 'CL': 'B', 'Math': 'D', 'Phy': 'D', 'Bio': 'C', 'Chem': 'A'}}\n",
      "{'_id': 40, 'name': 'Tobias Kimmer', 'class': '2F', 'grades': {'EL': 'C', 'CL': 'B', 'Math': 'E', 'Bio': 'A'}}\n",
      "{'_id': 41, 'name': 'Maryam Brosius', 'class': '2F', 'grades': {'EL': 'B', 'CL': 'E', 'Math': 'A', 'Bio': 'C'}}\n",
      "{'_id': 46, 'name': 'Apryl Soileau', 'class': '2F', 'grades': {'EL': 'A', 'CL': 'C', 'Math': 'B', 'Phy': 'E'}}\n",
      "{'_id': 48, 'name': 'Terrance Lauterbach', 'class': '2F', 'grades': {'EL': 'B', 'CL': 'D', 'Math': 'C', 'Phy': 'A', 'Chem': 'E'}}\n",
      "{'_id': 0, 'name': 'Rufus Schuck', 'class': '2E', 'grades': {'EL': 'B', 'CL': 'D', 'Math': 'D', 'Phy': 'D', 'Bio': 'B'}}\n",
      "{'_id': 10, 'name': 'Terrence Shannon', 'class': '2E', 'grades': {'EL': 'B', 'CL': 'E', 'Math': 'C', 'Phy': 'A'}}\n",
      "{'_id': 18, 'name': 'Angle Linck', 'class': '2E', 'grades': {'EL': 'C', 'CL': 'C', 'Math': 'C', 'Chem': 'C'}}\n",
      "{'_id': 22, 'name': 'Johnna Lecuyer', 'class': '2E', 'grades': {'EL': 'B', 'CL': 'A', 'Math': 'D', 'Phy': 'C', 'Bio': 'C', 'Chem': 'B'}}\n",
      "{'_id': 27, 'name': 'Lai Lazard', 'class': '2E', 'grades': {'EL': 'C', 'CL': 'C', 'Math': 'F', 'Phy': 'B', 'Bio': 'E', 'Chem': 'C'}}\n",
      "{'_id': 32, 'name': 'See Borne', 'class': '2E', 'grades': {'EL': 'F', 'CL': 'C', 'Math': 'E', 'Chem': 'A'}}\n",
      "{'_id': 43, 'name': 'Marcella Daigneault', 'class': '2E', 'grades': {'EL': 'B', 'CL': 'E', 'Math': 'D', 'Chem': 'F'}}\n",
      "{'_id': 50, 'name': 'Helena Cellray', 'class': '2E', 'grades': {'EL': 'A', 'CL': 'A', 'Math': 'A', 'Phy': 'A'}}\n",
      "{'_id': 15, 'name': 'Ola Markell', 'class': '2D', 'grades': {'EL': 'C', 'CL': 'B', 'Math': 'C', 'Chem': 'F'}}\n",
      "{'_id': 36, 'name': 'Fredricka Gormley', 'class': '2D', 'grades': {'EL': 'C', 'CL': 'D', 'Math': 'C', 'Phy': 'B', 'Bio': 'C', 'Chem': 'C'}}\n",
      "{'_id': 42, 'name': 'Darlena Crimi', 'class': '2D', 'grades': {'EL': 'B', 'CL': 'B', 'Math': 'D', 'Phy': 'D', 'Chem': 'C'}}\n",
      "{'_id': 44, 'name': 'Dannette Raasch', 'class': '2D', 'grades': {'EL': 'C', 'CL': 'E', 'Math': 'D', 'Phy': 'B'}}\n",
      "{'_id': 49, 'name': 'Carola Tegeler', 'class': '2D', 'grades': {'EL': 'B', 'CL': 'B', 'Math': 'C', 'Bio': 'F', 'Chem': 'C'}}\n",
      "{'_id': 2, 'name': 'Hillary Curl', 'class': '2C', 'grades': {'EL': 'D', 'CL': 'A', 'Math': 'E', 'Phy': 'D'}}\n",
      "{'_id': 9, 'name': 'Elvia Dubrey', 'class': '2C', 'grades': {'EL': 'E', 'CL': 'E', 'Math': 'F', 'Bio': 'D'}}\n",
      "{'_id': 26, 'name': 'Abdul Boland', 'class': '2C', 'grades': {'EL': 'E', 'CL': 'C', 'Math': 'F', 'Bio': 'C', 'Chem': 'D'}}\n",
      "{'_id': 31, 'name': 'Lanita Sciortino', 'class': '2C', 'grades': {'EL': 'E', 'CL': 'C', 'Math': 'F', 'Bio': 'F', 'Chem': 'B'}}\n",
      "{'_id': 6, 'name': 'Sharie Schall', 'class': '2B', 'grades': {'EL': 'C', 'CL': 'F', 'Math': 'B', 'Phy': 'D'}}\n",
      "{'_id': 8, 'name': 'Ashely Faye', 'class': '2B', 'grades': {'EL': 'C', 'CL': 'C', 'Math': 'C', 'Phy': 'F'}}\n",
      "{'_id': 14, 'name': 'Luanne Lett', 'class': '2B', 'grades': {'EL': 'A', 'CL': 'F', 'Math': 'A', 'Chem': 'C'}}\n",
      "{'_id': 21, 'name': 'Jalisa Stoudemire', 'class': '2B', 'grades': {'EL': 'B', 'CL': 'F', 'Math': 'C', 'Bio': 'C'}}\n",
      "{'_id': 25, 'name': 'Shaunda Sieg', 'class': '2B', 'grades': {'EL': 'E', 'CL': 'D', 'Math': 'B', 'Bio': 'F'}}\n",
      "{'_id': 28, 'name': 'Chadwick Griffin', 'class': '2B', 'grades': {'EL': 'F', 'CL': 'A', 'Math': 'C', 'Bio': 'C', 'Chem': 'F'}}\n",
      "{'_id': 33, 'name': 'Laverna Halpern', 'class': '2B', 'grades': {'EL': 'A', 'CL': 'E', 'Math': 'D', 'Phy': 'C', 'Bio': 'C', 'Chem': 'C'}}\n",
      "{'_id': 38, 'name': 'Odis Levalley', 'class': '2B', 'grades': {'EL': 'C', 'CL': 'E', 'Math': 'C', 'Phy': 'C', 'Bio': 'C', 'Chem': 'E'}}\n",
      "{'_id': 1, 'name': 'Ione Wolfe', 'class': '2A', 'grades': {'EL': 'A', 'CL': 'C', 'Math': 'B', 'Phy': 'F', 'Chem': 'F'}}\n",
      "{'_id': 7, 'name': 'Paris Curington', 'class': '2A', 'grades': {'EL': 'A', 'CL': 'B', 'Math': 'A', 'Phy': 'D'}}\n",
      "{'_id': 11, 'name': 'Carolann Kintner', 'class': '2A', 'grades': {'EL': 'B', 'CL': 'E', 'Math': 'B', 'Phy': 'E', 'Bio': 'F'}}\n",
      "{'_id': 17, 'name': 'Lashawna Meals', 'class': '2A', 'grades': {'EL': 'C', 'CL': 'B', 'Math': 'C', 'Chem': 'B'}}\n",
      "{'_id': 19, 'name': 'Toney Mcnab', 'class': '2A', 'grades': {'EL': 'B', 'CL': 'E', 'Math': 'E', 'Phy': 'E', 'Chem': 'E'}}\n",
      "{'_id': 23, 'name': 'Grazyna Kitzman', 'class': '2A', 'grades': {'EL': 'A', 'CL': 'D', 'Math': 'F', 'Phy': 'C'}}\n",
      "{'_id': 30, 'name': 'Virgilio Britt', 'class': '2A', 'grades': {'EL': 'F', 'CL': 'F', 'Math': 'F', 'Phy': 'A'}}\n",
      "{'_id': 45, 'name': 'Farah Quon', 'class': '2A', 'grades': {'EL': 'C', 'CL': 'B', 'Math': 'D', 'Bio': 'E'}}\n",
      "{'_id': 47, 'name': 'Reiko Stack', 'class': '2A', 'grades': {'EL': 'B', 'CL': 'D', 'Math': 'E', 'Bio': 'C', 'Chem': 'F'}}\n"
     ]
    }
   ],
   "source": [
    "# Task 4\n",
    "# print out all documents in \"results\" in the order based on class from 2A, 2B and so on\n",
    "import pymongo \n",
    "client=pymongo.MongoClient(\"127.0.0.1\", 27017)\n",
    "db = client.get_database(\"myDatabase\")\n",
    "coll = db.get_collection(\"results\")\n",
    "result = coll.find().sort(\"class\",-1)\n",
    "for document in result:\n",
    "    print(document)\n",
    "client.close()"
   ]
  },
  {
   "cell_type": "code",
   "execution_count": 31,
   "metadata": {},
   "outputs": [
    {
     "name": "stdout",
     "output_type": "stream",
     "text": [
      "Task 5\n",
      "{'_id': 13, 'name': 'Kathlene Collar', 'class': '2F', 'grades': {'EL': 'E', 'CL': 'E', 'Math': 'B', 'Phy': 'E', 'Bio': 'E', 'Chem': 'C'}}\n",
      "{'_id': 22, 'name': 'Johnna Lecuyer', 'class': '2E', 'grades': {'EL': 'B', 'CL': 'A', 'Math': 'D', 'Phy': 'C', 'Bio': 'C', 'Chem': 'B'}}\n",
      "{'_id': 27, 'name': 'Lai Lazard', 'class': '2E', 'grades': {'EL': 'C', 'CL': 'C', 'Math': 'F', 'Phy': 'B', 'Bio': 'E', 'Chem': 'C'}}\n",
      "{'_id': 33, 'name': 'Laverna Halpern', 'class': '2B', 'grades': {'EL': 'A', 'CL': 'E', 'Math': 'D', 'Phy': 'C', 'Bio': 'C', 'Chem': 'C'}}\n",
      "{'_id': 34, 'name': 'Russell Gillison', 'class': '2F', 'grades': {'EL': 'E', 'CL': 'B', 'Math': 'D', 'Phy': 'D', 'Bio': 'C', 'Chem': 'A'}}\n",
      "{'_id': 36, 'name': 'Fredricka Gormley', 'class': '2D', 'grades': {'EL': 'C', 'CL': 'D', 'Math': 'C', 'Phy': 'B', 'Bio': 'C', 'Chem': 'C'}}\n",
      "{'_id': 38, 'name': 'Odis Levalley', 'class': '2B', 'grades': {'EL': 'C', 'CL': 'E', 'Math': 'C', 'Phy': 'C', 'Bio': 'C', 'Chem': 'E'}}\n",
      "7\n"
     ]
    }
   ],
   "source": [
    "# Task 5\n",
    "print(\"Task 5\")\n",
    "# Write a query to find number of students who takes all 3 sciences - Bio, Chem, Phy\n",
    "import pymongo \n",
    "\n",
    "client= pymongo.MongoClient(\"127.0.0.1\", 27017)\n",
    "db = client.get_database(\"myDatabase\")\n",
    "mycol = db.get_collection(\"results\")\n",
    "# myquery = {\"grades\": {\"$all\":[\"Bio\", \"Chem\", \"Phy\"]}}\n",
    "myquery = {\"$and\": [{\"grades.Bio\":{\"$exists\":True}}, {\"grades.Phy\":{\"$exists\":True}}, {\"grades.Chem\":{\"$exists\":True}}]}\n",
    "posts = mycol.find(myquery)\n",
    "\n",
    "for post in posts:\n",
    "    print(post)\n",
    "print(mycol.count_documents(myquery))\n",
    "\n",
    "client.close()"
   ]
  },
  {
   "cell_type": "code",
   "execution_count": 34,
   "metadata": {},
   "outputs": [
    {
     "name": "stdout",
     "output_type": "stream",
     "text": [
      "Task 6\n",
      "{'_id': 26, 'name': 'Abdul Boland', 'class': '2C', 'grades': {'EL': 'E', 'CL': 'C', 'Math': 'F', 'Bio': 'C', 'Chem': 'D'}}\n",
      "{'_id': 28, 'name': 'Chadwick Griffin', 'class': '2B', 'grades': {'EL': 'F', 'CL': 'A', 'Math': 'C', 'Bio': 'C', 'Chem': 'F'}}\n",
      "{'_id': 29, 'name': 'Jaye Galle', 'class': '2G', 'grades': {'EL': 'A', 'CL': 'B', 'Math': 'D', 'Bio': 'D', 'Chem': 'C'}}\n",
      "{'_id': 31, 'name': 'Lanita Sciortino', 'class': '2C', 'grades': {'EL': 'E', 'CL': 'C', 'Math': 'F', 'Bio': 'F', 'Chem': 'B'}}\n",
      "{'_id': 47, 'name': 'Reiko Stack', 'class': '2A', 'grades': {'EL': 'B', 'CL': 'D', 'Math': 'E', 'Bio': 'C', 'Chem': 'F'}}\n",
      "{'_id': 49, 'name': 'Carola Tegeler', 'class': '2D', 'grades': {'EL': 'B', 'CL': 'B', 'Math': 'C', 'Bio': 'F', 'Chem': 'C'}}\n",
      "6\n"
     ]
    }
   ],
   "source": [
    "# Task 6\n",
    "print(\"Task 6\")\n",
    "# Write a query to find number of students who takes Bio and Chem but not Physics\n",
    "import pymongo \n",
    "\n",
    "client = pymongo.MongoClient(\"127.0.0.1\", 27017)\n",
    "db = client.get_database(\"myDatabase\")\n",
    "mycol = db.get_collection(\"results\")\n",
    "myquery = {\"$and\":[{\"grades.Bio\":{\"$exists\":True}}, {\"grades.Chem\":{\"$exists\":True}}, {\"grades.Phy\":{\"$exists\":False}}]}\n",
    "posts = mycol.find(myquery)\n",
    "for post in posts:\n",
    "    print(post)\n",
    "print(mycol.count_documents(myquery))\n",
    "client.close()"
   ]
  },
  {
   "cell_type": "code",
   "execution_count": 35,
   "metadata": {},
   "outputs": [
    {
     "name": "stdout",
     "output_type": "stream",
     "text": [
      "Task 7\n",
      "{'_id': 50, 'name': 'Helena Cellray', 'class': '2E', 'grades': {'EL': 'A', 'CL': 'A', 'Math': 'A', 'Phy': 'A'}}\n",
      "1\n"
     ]
    }
   ],
   "source": [
    "# Task 7\n",
    "print(\"Task 7\")\n",
    "# Write a query to find number of students who scores A or B in both Math and Physics\n",
    "import pymongo\n",
    "\n",
    "client = pymongo.MongoClient(\"127.0.0.1\", 27017)\n",
    "db = client.get_database(\"myDatabase\")\n",
    "mycol = db.get_collection(\"results\")\n",
    "myquery = {\"$and\": [{\"$or\":[{\"grades.Math\":\"A\"}, {\"grades.Math\":\"B\"}]}, {\"$or\":[{\"grades.Phy\":\"A\"}, {\"grades.Phy\":\"B\"}]}]}\n",
    "posts = mycol.find(myquery)\n",
    "\n",
    "for post in posts:\n",
    "    print(post)\n",
    "print(mycol.count_documents(myquery))\n",
    "\n",
    "client.close()"
   ]
  },
  {
   "cell_type": "code",
   "execution_count": 36,
   "metadata": {},
   "outputs": [
    {
     "name": "stdout",
     "output_type": "stream",
     "text": [
      "Task 8\n",
      "{'_id': 1, 'name': 'Ione Wolfe', 'class': '2A', 'grades': {'EL': 'A', 'CL': 'C', 'Math': 'B', 'Phy': 'F', 'Chem': 'F'}}\n",
      "{'_id': 3, 'name': 'Juli Barnhill', 'class': '2F', 'grades': {'EL': 'C', 'CL': 'C', 'Math': 'E', 'Phy': 'C', 'Bio': 'C'}}\n",
      "{'_id': 7, 'name': 'Paris Curington', 'class': '2A', 'grades': {'EL': 'A', 'CL': 'B', 'Math': 'A', 'Phy': 'D'}}\n",
      "{'_id': 8, 'name': 'Ashely Faye', 'class': '2B', 'grades': {'EL': 'C', 'CL': 'C', 'Math': 'C', 'Phy': 'F'}}\n",
      "{'_id': 11, 'name': 'Carolann Kintner', 'class': '2A', 'grades': {'EL': 'B', 'CL': 'E', 'Math': 'B', 'Phy': 'E', 'Bio': 'F'}}\n",
      "{'_id': 17, 'name': 'Lashawna Meals', 'class': '2A', 'grades': {'EL': 'C', 'CL': 'B', 'Math': 'C', 'Chem': 'B'}}\n",
      "{'_id': 18, 'name': 'Angle Linck', 'class': '2E', 'grades': {'EL': 'C', 'CL': 'C', 'Math': 'C', 'Chem': 'C'}}\n",
      "{'_id': 19, 'name': 'Toney Mcnab', 'class': '2A', 'grades': {'EL': 'B', 'CL': 'E', 'Math': 'E', 'Phy': 'E', 'Chem': 'E'}}\n",
      "{'_id': 20, 'name': 'Hertha Dossantos', 'class': '2G', 'grades': {'EL': 'A', 'CL': 'C', 'Math': 'F', 'Phy': 'D', 'Chem': 'D'}}\n",
      "{'_id': 23, 'name': 'Grazyna Kitzman', 'class': '2A', 'grades': {'EL': 'A', 'CL': 'D', 'Math': 'F', 'Phy': 'C'}}\n",
      "{'_id': 24, 'name': 'Phyliss Rolen', 'class': '2F', 'grades': {'EL': 'B', 'CL': 'C', 'Math': 'B', 'Chem': 'D'}}\n",
      "{'_id': 26, 'name': 'Abdul Boland', 'class': '2C', 'grades': {'EL': 'E', 'CL': 'C', 'Math': 'F', 'Bio': 'C', 'Chem': 'D'}}\n",
      "{'_id': 27, 'name': 'Lai Lazard', 'class': '2E', 'grades': {'EL': 'C', 'CL': 'C', 'Math': 'F', 'Phy': 'B', 'Bio': 'E', 'Chem': 'C'}}\n",
      "{'_id': 30, 'name': 'Virgilio Britt', 'class': '2A', 'grades': {'EL': 'F', 'CL': 'F', 'Math': 'F', 'Phy': 'A'}}\n",
      "{'_id': 31, 'name': 'Lanita Sciortino', 'class': '2C', 'grades': {'EL': 'E', 'CL': 'C', 'Math': 'F', 'Bio': 'F', 'Chem': 'B'}}\n",
      "{'_id': 32, 'name': 'See Borne', 'class': '2E', 'grades': {'EL': 'F', 'CL': 'C', 'Math': 'E', 'Chem': 'A'}}\n",
      "{'_id': 45, 'name': 'Farah Quon', 'class': '2A', 'grades': {'EL': 'C', 'CL': 'B', 'Math': 'D', 'Bio': 'E'}}\n",
      "{'_id': 46, 'name': 'Apryl Soileau', 'class': '2F', 'grades': {'EL': 'A', 'CL': 'C', 'Math': 'B', 'Phy': 'E'}}\n",
      "{'_id': 47, 'name': 'Reiko Stack', 'class': '2A', 'grades': {'EL': 'B', 'CL': 'D', 'Math': 'E', 'Bio': 'C', 'Chem': 'F'}}\n",
      "19\n"
     ]
    }
   ],
   "source": [
    "# Task 8\n",
    "print(\"Task 8\")\n",
    "# Write a query to display students in class 2A or Any student who score C in CL\n",
    "import pymongo\n",
    "\n",
    "client = pymongo.MongoClient(\"127.0.0.1\", 27017)\n",
    "db = client.get_database(\"myDatabase\")\n",
    "mycol = db.get_collection(\"results\")\n",
    "myquery = {\"$or\":[{\"class\":\"2A\"}, {\"grades.CL\":\"C\"}]}\n",
    "posts = mycol.find(myquery)\n",
    "\n",
    "for post in posts:\n",
    "    print(post)\n",
    "print(mycol.count_documents(myquery))\n",
    "\n",
    "client.close()"
   ]
  },
  {
   "cell_type": "code",
   "execution_count": 38,
   "metadata": {},
   "outputs": [
    {
     "name": "stdout",
     "output_type": "stream",
     "text": [
      "Task 9\n",
      "['admin', 'databasemy', 'entertainment', 'local', 'myDatabase']\n"
     ]
    },
    {
     "name": "stderr",
     "output_type": "stream",
     "text": [
      "c:\\users\\user\\appdata\\local\\programs\\python\\python37\\lib\\site-packages\\ipykernel_launcher.py:12: DeprecationWarning: update is deprecated. Use replace_one, update_one or update_many instead.\n",
      "  if sys.path[0] == '':\n"
     ]
    }
   ],
   "source": [
    "# Task 9\n",
    "print(\"Task 9\")\n",
    "# update all Chem grades from E to F\n",
    "# Write a query to verify the update\n",
    "import pymongo \n",
    "\n",
    "client = pymongo.MongoClient(\"127.0.0.1\", 27017)\n",
    "db = client.get_database(\"myDatabase\")\n",
    "mycol = db.get_collection(\"results\")\n",
    "search = {\"grades.Chem\":\"E\"}\n",
    "update = {\"$set\":{\"grades.Chem\":\"F\"}}\n",
    "mycol.update(search,update)\n",
    "\n",
    "\n",
    "print(client.list_database_names())\n",
    "#print(mydb.list_collection_names())\n",
    "#mycol.drop()\n",
    "#client.drop_database('myDatabse')\n",
    "\n",
    "client.close()"
   ]
  },
  {
   "cell_type": "code",
   "execution_count": null,
   "metadata": {},
   "outputs": [],
   "source": []
  }
 ],
 "metadata": {
  "kernelspec": {
   "display_name": "Python 3",
   "language": "python",
   "name": "python3"
  },
  "language_info": {
   "codemirror_mode": {
    "name": "ipython",
    "version": 3
   },
   "file_extension": ".py",
   "mimetype": "text/x-python",
   "name": "python",
   "nbconvert_exporter": "python",
   "pygments_lexer": "ipython3",
   "version": "3.7.6"
  }
 },
 "nbformat": 4,
 "nbformat_minor": 4
}
